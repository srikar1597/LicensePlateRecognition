{
 "cells": [
  {
   "cell_type": "markdown",
   "metadata": {
    "id": "ZjHZbO2DjXkv"
   },
   "source": [
    "# License Plate Recognition"
   ]
  },
  {
   "cell_type": "code",
   "execution_count": null,
   "metadata": {
    "id": "HmubxisXjTOn"
   },
   "outputs": [],
   "source": [
    "import numpy as np\n",
    "import pandas as pd\n",
    "import matplotlib.pyplot as plt\n",
    "import cv2\n",
    "import os"
   ]
  },
  {
   "cell_type": "markdown",
   "metadata": {
    "id": "J3SbEfpyhUUT"
   },
   "source": [
    "## Training Set 1"
   ]
  },
  {
   "cell_type": "code",
   "execution_count": null,
   "metadata": {
    "colab": {
     "base_uri": "https://localhost:8080/"
    },
    "id": "6CHmn1ZfjmDP",
    "outputId": "a9118c87-b6a4-4360-8c65-5d78770e3a48"
   },
   "outputs": [],
   "source": [
    "# extracting the compessed Dataset\n",
    "from zipfile import ZipFile\n",
    "dataset1 = '/content/Licplatesdetection_train.zip'\n",
    "\n",
    "with ZipFile(dataset1,'r') as zip:\n",
    "  zip.extractall()\n",
    "  print('The dataset is extracted')"
   ]
  },
  {
   "cell_type": "code",
   "execution_count": null,
   "metadata": {
    "colab": {
     "base_uri": "https://localhost:8080/"
    },
    "id": "Ek8kWM6YnLth",
    "outputId": "319e4237-fd06-4621-ee3c-befb018276b6"
   },
   "outputs": [],
   "source": [
    "import os\n",
    "set1 = os.listdir('/content/license_plates_detection_train')\n",
    "print(set1)"
   ]
  },
  {
   "cell_type": "code",
   "execution_count": null,
   "metadata": {
    "colab": {
     "base_uri": "https://localhost:8080/"
    },
    "id": "bF3mKoJCsf1B",
    "outputId": "472807f8-4965-4fb6-fe43-65680b0e397d"
   },
   "outputs": [],
   "source": [
    "len(set1)"
   ]
  },
  {
   "cell_type": "markdown",
   "metadata": {
    "id": "7rq5Tgo6Q-ZI"
   },
   "source": [
    "### Reading Images in grayscale"
   ]
  },
  {
   "cell_type": "code",
   "execution_count": null,
   "metadata": {
    "colab": {
     "base_uri": "https://localhost:8080/",
     "height": 519
    },
    "id": "IcCD2TwMBL0S",
    "outputId": "330ff832-6f8b-4ad2-90fd-8afdac5b6e49"
   },
   "outputs": [],
   "source": [
    "#Load and display the image\n",
    "image_path = \"/content/license_plates_detection_train/10.jpg\"\n",
    "image = cv2.imread(image_path)\n",
    "image"
   ]
  },
  {
   "cell_type": "code",
   "execution_count": null,
   "metadata": {
    "id": "D0y18xwUO8Dp"
   },
   "outputs": [],
   "source": [
    "import matplotlib.pyplot as plt\n",
    "import matplotlib.image as mpimg\n",
    "import cv2\n",
    "from google.colab.patches import cv2_imshow\n",
    "from PIL import Image"
   ]
  },
  {
   "cell_type": "code",
   "execution_count": null,
   "metadata": {
    "colab": {
     "base_uri": "https://localhost:8080/"
    },
    "id": "fXpxFclJFY1l",
    "outputId": "fada0278-8ca2-484f-b78e-22906bbee551"
   },
   "outputs": [],
   "source": [
    "import os\n",
    "import numpy as np\n",
    "from PIL import Image\n",
    "\n",
    "# Define the path to the image directory\n",
    "image_dir = '/content/license_plates_detection_train'\n",
    "\n",
    "data = []\n",
    "\n",
    "# List all files in the directory\n",
    "img_files = os.listdir(image_dir)\n",
    "\n",
    "for img_file in img_files:\n",
    "    # Construct the full path to the image file\n",
    "    img_path = os.path.join(image_dir, img_file)\n",
    "\n",
    "    # Open and process the image\n",
    "    image = Image.open(img_path)\n",
    "    image = image.resize((128, 128))\n",
    "    image = image.convert('RGB')\n",
    "    image = np.array(image)\n",
    "\n",
    "    # Append the numpy array to the data list\n",
    "    data.append(image)\n",
    "\n",
    "# Convert the list to a numpy array\n",
    "data = np.array(data)\n",
    "\n",
    "print(\"Images successfully converted to numpy arrays\")\n",
    "print(f\"Shape of data: {data.shape}\")\n"
   ]
  },
  {
   "cell_type": "code",
   "execution_count": null,
   "metadata": {
    "colab": {
     "base_uri": "https://localhost:8080/",
     "height": 168
    },
    "id": "s-DZk78cOzUa",
    "outputId": "7436aeb5-5b32-49f8-f52a-a5a087c260a9"
   },
   "outputs": [],
   "source": [
    "data[0]"
   ]
  },
  {
   "cell_type": "code",
   "execution_count": null,
   "metadata": {
    "colab": {
     "base_uri": "https://localhost:8080/",
     "height": 453
    },
    "id": "HOoRihqYQRZt",
    "outputId": "e44f3bd4-91a0-4251-c5ae-32e9ebb7df98"
   },
   "outputs": [],
   "source": [
    "img = cv2.imread('/content/license_plates_detection_train/102.jpg')\n",
    "gray = cv2.cvtColor(img, cv2.COLOR_BGR2GRAY)\n",
    "plt.imshow(cv2.cvtColor(gray, cv2.COLOR_BGR2RGB))"
   ]
  },
  {
   "cell_type": "code",
   "execution_count": null,
   "metadata": {
    "colab": {
     "base_uri": "https://localhost:8080/",
     "height": 359
    },
    "id": "r-zWfoalSHHT",
    "outputId": "9031c375-46e0-406b-f751-dd3fffdbf50a"
   },
   "outputs": [],
   "source": [
    "\n",
    "\n",
    "# Define the path to the image directory\n",
    "image_dir = '/content/license_plates_detection_train'\n",
    "\n",
    "# List all files in the directory\n",
    "img_files = os.listdir(image_dir)\n",
    "\n",
    "# Sort the files to ensure consistent ordering\n",
    "img_files.sort()\n",
    "\n",
    "# Read and process the first 10 images\n",
    "images = []\n",
    "for img_file in img_files:\n",
    "    # Construct the full path to the image file\n",
    "    img_path = os.path.join(image_dir, img_file)\n",
    "\n",
    "    # Read the image using OpenCV\n",
    "    img = cv2.imread(img_path)\n",
    "\n",
    "    # Convert the image to grayscale\n",
    "    gray = cv2.cvtColor(img, cv2.COLOR_BGR2GRAY)\n",
    "\n",
    "    # Append the grayscale image to the list\n",
    "    images.append(gray)\n",
    "\n",
    "# Display the first 10 images using Matplotlib\n",
    "fig, axes = plt.subplots(2, 5, figsize=(20, 10))\n",
    "axes = axes.ravel()\n",
    "\n",
    "for i in range(10):\n",
    "    axes[i].imshow(cv2.cvtColor(images[i], cv2.COLOR_BGR2RGB), cmap='gray')\n",
    "    axes[i].set_title(f'Image {i+1}')\n",
    "    axes[i].axis('off')\n",
    "\n",
    "plt.tight_layout()\n",
    "plt.show()\n"
   ]
  },
  {
   "cell_type": "code",
   "execution_count": null,
   "metadata": {
    "colab": {
     "base_uri": "https://localhost:8080/"
    },
    "id": "bwI1HXX6SWCL",
    "outputId": "deea6ae7-8e19-4836-a2f5-531be5aa5d0b"
   },
   "outputs": [],
   "source": [
    "images"
   ]
  },
  {
   "cell_type": "code",
   "execution_count": null,
   "metadata": {
    "id": "iNEVogcoQ3en"
   },
   "outputs": [],
   "source": [
    "import imutils\n",
    "import easyocr"
   ]
  },
  {
   "cell_type": "markdown",
   "metadata": {
    "id": "RYTU1pMoRL32"
   },
   "source": [
    "### Applying the  filters and  finding the edges for localization\n"
   ]
  },
  {
   "cell_type": "code",
   "execution_count": null,
   "metadata": {
    "colab": {
     "base_uri": "https://localhost:8080/",
     "height": 359
    },
    "id": "G7ElSgrMQXds",
    "outputId": "bbf51d8a-fac7-4999-d468-5d619ca49973"
   },
   "outputs": [],
   "source": [
    "\n",
    "\n",
    "# Define the path to the image directory\n",
    "image_dir = '/content/license_plates_detection_train'\n",
    "\n",
    "# List all files in the directory\n",
    "img_files = os.listdir(image_dir)\n",
    "\n",
    "# Sort the files to ensure consistent ordering\n",
    "img_files.sort()\n",
    "\n",
    "# Process and display the first 10 images\n",
    "processed_images = []\n",
    "for img_file in img_files:\n",
    "    # Construct the full path to the image file\n",
    "    img_path = os.path.join(image_dir, img_file)\n",
    "\n",
    "    # Read the image using OpenCV\n",
    "    img = cv2.imread(img_path)\n",
    "\n",
    "    # Convert the image to grayscale\n",
    "    gray = cv2.cvtColor(img, cv2.COLOR_BGR2GRAY)\n",
    "\n",
    "    # Apply bilateral filtering for noise reduction\n",
    "    bfilter = cv2.bilateralFilter(gray, 11, 17, 17)\n",
    "\n",
    "    # Apply edge detection using Canny\n",
    "    edged = cv2.Canny(bfilter, 30, 200)\n",
    "\n",
    "    # Append the processed image to the list\n",
    "    processed_images.append(edged)\n",
    "\n",
    "# Display the first 10 processed images using Matplotlib\n",
    "fig, axes = plt.subplots(2, 5, figsize=(20, 10))\n",
    "axes = axes.ravel()\n",
    "\n",
    "for i in range(10):\n",
    "    axes[i].imshow(processed_images[i], cmap='gray')\n",
    "    axes[i].set_title(f'Image {i+1}')\n",
    "    axes[i].axis('off')\n",
    "\n",
    "plt.tight_layout()\n",
    "plt.show()\n"
   ]
  },
  {
   "cell_type": "code",
   "execution_count": null,
   "metadata": {
    "colab": {
     "base_uri": "https://localhost:8080/"
    },
    "id": "91vkwYcUTN9-",
    "outputId": "fb66672b-80cb-4bfd-e4f2-049c21ebc4bb"
   },
   "outputs": [],
   "source": [
    "processed_images"
   ]
  },
  {
   "cell_type": "code",
   "execution_count": null,
   "metadata": {
    "colab": {
     "base_uri": "https://localhost:8080/",
     "height": 453
    },
    "id": "Fx5DRlvxTxHQ",
    "outputId": "4ad6b3f4-0fd0-4905-a467-82539e74fac0"
   },
   "outputs": [],
   "source": [
    "bfilter = cv2.bilateralFilter(processed_images[700], 11, 17, 17) #Noise reduction\n",
    "edged = cv2.Canny(bfilter, 30, 200) #Edge detection\n",
    "plt.imshow(cv2.cvtColor(edged, cv2.COLOR_BGR2RGB))"
   ]
  },
  {
   "cell_type": "markdown",
   "metadata": {
    "id": "JfI0klKWUVxm"
   },
   "source": [
    "### Finding Contours and applying the mask"
   ]
  },
  {
   "cell_type": "code",
   "execution_count": null,
   "metadata": {
    "colab": {
     "base_uri": "https://localhost:8080/"
    },
    "id": "tKSCKenpUGkd",
    "outputId": "6b230cd9-2913-4be7-d965-df5e847f3b8f"
   },
   "outputs": [],
   "source": [
    "\n",
    "# Define the directory containing the images\n",
    "image_dir = '/content/license_plates_detection_train'\n",
    "\n",
    "# Get the list of all image file names in the directory\n",
    "image_files = [f for f in os.listdir(image_dir) if os.path.isfile(os.path.join(image_dir, f))]\n",
    "\n",
    "# Initialize a list to store the locations of contours for each image\n",
    "locations = []\n",
    "\n",
    "for image_file in image_files[:900]:  # Limit to the first 900 images\n",
    "    # Construct the full path to the image\n",
    "    image_path = os.path.join(image_dir, image_file)\n",
    "\n",
    "    # Read the image\n",
    "    image = cv2.imread(image_path)\n",
    "\n",
    "    # Convert the image to grayscale\n",
    "    gray = cv2.cvtColor(image, cv2.COLOR_BGR2GRAY)\n",
    "\n",
    "    # Apply edge detection\n",
    "    edged = cv2.Canny(gray, 50, 200)\n",
    "\n",
    "    # Find contours\n",
    "    keypoints = cv2.findContours(edged.copy(), cv2.RETR_TREE, cv2.CHAIN_APPROX_SIMPLE)\n",
    "    contours = imutils.grab_contours(keypoints)\n",
    "    contours = sorted(contours, key=cv2.contourArea, reverse=True)[:10]\n",
    "\n",
    "    location = None\n",
    "    for contour in contours:\n",
    "        approx = cv2.approxPolyDP(contour, 10, True)\n",
    "        if len(approx) == 4:\n",
    "            location = approx\n",
    "            break\n",
    "\n",
    "    # Store the location\n",
    "    locations.append(location)\n",
    "\n",
    "# Output the locations list\n",
    "for i, location in enumerate(locations):\n",
    "    print(f\"Image {i+1}: {location}\")\n"
   ]
  },
  {
   "cell_type": "code",
   "execution_count": null,
   "metadata": {
    "colab": {
     "base_uri": "https://localhost:8080/",
     "height": 1000
    },
    "id": "oR6gvFIoVl50",
    "outputId": "0d1ba887-aafb-48db-d614-fb5fa72204d4"
   },
   "outputs": [],
   "source": [
    "\n",
    "# Defining the directory containing the images\n",
    "image_dir = '/content/license_plates_detection_train'\n",
    "\n",
    "# Get the list of all image file names in the directory\n",
    "image_files = [f for f in os.listdir(image_dir) if os.path.isfile(os.path.join(image_dir, f))]\n",
    "\n",
    "# Process and store the results for each image\n",
    "for i, image_file in enumerate(image_files):  # Limit to the first 900 images\n",
    "    # Construct the full path to the image\n",
    "    image_path = os.path.join(image_dir, image_file)\n",
    "\n",
    "    # Read the image\n",
    "    img = cv2.imread(image_path)\n",
    "\n",
    "    # Converting the image to grayscale\n",
    "    gray = cv2.cvtColor(img, cv2.COLOR_BGR2GRAY)\n",
    "\n",
    "    # Apply edge detection\n",
    "    edged = cv2.Canny(gray, 50, 200)\n",
    "\n",
    "    # Find contours\n",
    "    keypoints = cv2.findContours(edged.copy(), cv2.RETR_TREE, cv2.CHAIN_APPROX_SIMPLE)\n",
    "    contours = imutils.grab_contours(keypoints)\n",
    "    contours = sorted(contours, key=cv2.contourArea, reverse=True)[:10]\n",
    "\n",
    "    location = None\n",
    "    for contour in contours:\n",
    "        approx = cv2.approxPolyDP(contour, 10, True)\n",
    "        if len(approx) == 4:\n",
    "            location = approx\n",
    "            break\n",
    "\n",
    "    if location is not None:\n",
    "        # Create a mask for the contour\n",
    "        mask = np.zeros(gray.shape, np.uint8)\n",
    "        new_image = cv2.drawContours(mask, [location], 0, 255, -1)\n",
    "        new_image = cv2.bitwise_and(img, img, mask=mask)\n",
    "\n",
    "        # Save or display the resulting image\n",
    "        result_path = os.path.join(image_dir, f'result_{i+1}.png')\n",
    "        cv2.imwrite(result_path, new_image)\n",
    "        plt.imshow(cv2.cvtColor(new_image, cv2.COLOR_BGR2RGB))\n",
    "        plt.title(f\"Processed Image {i+1}\")\n",
    "        plt.show()\n",
    "\n"
   ]
  },
  {
   "cell_type": "markdown",
   "metadata": {
    "id": "-h93gm4-hZIP"
   },
   "source": [
    "## Training Set 2"
   ]
  },
  {
   "cell_type": "code",
   "execution_count": null,
   "metadata": {
    "colab": {
     "base_uri": "https://localhost:8080/"
    },
    "id": "nEh6fNTkcXa_",
    "outputId": "4abf7456-1418-43b8-a5f6-3e934606947c"
   },
   "outputs": [],
   "source": [
    "# extracting the compessed Dataset\n",
    "from zipfile import ZipFile\n",
    "dataset1 = '/content/Licplatesrecognition_train.zip'\n",
    "\n",
    "with ZipFile(dataset1,'r') as zip:\n",
    "  zip.extractall()\n",
    "  print('The dataset is extracted')"
   ]
  },
  {
   "cell_type": "code",
   "execution_count": null,
   "metadata": {
    "colab": {
     "base_uri": "https://localhost:8080/"
    },
    "id": "CBM59ORRhj9k",
    "outputId": "0cf14553-9add-4fb3-fcdf-d069996eb5e3"
   },
   "outputs": [],
   "source": [
    "set2 = os.listdir('/content/license_plates_recognition_train')\n",
    "print(set1)"
   ]
  },
  {
   "cell_type": "code",
   "execution_count": null,
   "metadata": {
    "colab": {
     "base_uri": "https://localhost:8080/",
     "height": 118
    },
    "id": "JuaQgY9rhwpS",
    "outputId": "ea2509cd-4637-4bdf-e452-818fc95e1d81"
   },
   "outputs": [],
   "source": [
    "#Load and display the image\n",
    "image_path = \"/content/license_plates_recognition_train/10.jpg\"\n",
    "image = cv2.imread(image_path)\n",
    "image"
   ]
  },
  {
   "cell_type": "code",
   "execution_count": null,
   "metadata": {
    "colab": {
     "base_uri": "https://localhost:8080/",
     "height": 1000
    },
    "id": "nfZCGdlrh7cF",
    "outputId": "1141dab6-d151-4109-f070-43a115902fe8"
   },
   "outputs": [],
   "source": [
    "\n",
    "# Defining the directory containing the images\n",
    "image_dir = '/content/license_plates_recognition_train'\n",
    "\n",
    "# Get the list of all image file names in the directory\n",
    "image_files = [f for f in os.listdir(image_dir) if os.path.isfile(os.path.join(image_dir, f))]\n",
    "\n",
    "# Process and store the results for each image\n",
    "for i, image_file in enumerate(image_files):  # Limit to the first 900 images\n",
    "    # Construct the full path to the image\n",
    "    image_path = os.path.join(image_dir, image_file)\n",
    "\n",
    "    # Read the image\n",
    "    img = cv2.imread(image_path)\n",
    "\n",
    "    # Converting the image to grayscale\n",
    "    gray = cv2.cvtColor(img, cv2.COLOR_BGR2GRAY)\n",
    "\n",
    "    # Apply edge detection\n",
    "    edged = cv2.Canny(gray, 50, 200)\n",
    "\n",
    "    # Find contours\n",
    "    keypoints = cv2.findContours(edged.copy(), cv2.RETR_TREE, cv2.CHAIN_APPROX_SIMPLE)\n",
    "    contours = imutils.grab_contours(keypoints)\n",
    "    contours = sorted(contours, key=cv2.contourArea, reverse=True)[:10]\n",
    "\n",
    "    location = None\n",
    "    for contour in contours:\n",
    "        approx = cv2.approxPolyDP(contour, 10, True)\n",
    "        if len(approx) == 4:\n",
    "            location = approx\n",
    "            break\n",
    "\n",
    "    if location is not None:\n",
    "        # Create a mask for the contour\n",
    "        mask = np.zeros(gray.shape, np.uint8)\n",
    "        new_image = cv2.drawContours(mask, [location], 0, 255, -1)\n",
    "        new_image = cv2.bitwise_and(img, img, mask=mask)\n",
    "\n",
    "        # Save or display the resulting image\n",
    "        result_path = os.path.join(image_dir, f'result_{i+1}.png')\n",
    "        cv2.imwrite(result_path, new_image)\n",
    "        plt.imshow(cv2.cvtColor(new_image, cv2.COLOR_BGR2RGB))\n",
    "        plt.title(f\"Processed Image {i+1}\")\n",
    "        plt.show()\n",
    "\n"
   ]
  },
  {
   "cell_type": "code",
   "execution_count": null,
   "metadata": {
    "colab": {
     "base_uri": "https://localhost:8080/"
    },
    "id": "lx3D2z9xlSzt",
    "outputId": "7f7cda9b-3e17-4735-a0f4-55927f9c7528"
   },
   "outputs": [],
   "source": [
    "\n",
    "# Define the directory containing the images\n",
    "image_dir = '/content/license_plates_recognition_train'\n",
    "\n",
    "# Get the list of all image file names in the directory\n",
    "image_files = [f for f in os.listdir(image_dir) if os.path.isfile(os.path.join(image_dir, f))]\n",
    "\n",
    "# Process and store the results for each image\n",
    "images2=[]\n",
    "for i, image_file in enumerate(image_files[:900]):  # Limit to the first 900 images\n",
    "    # Construct the full path to the image\n",
    "    image_path = os.path.join(image_dir, image_file)\n",
    "\n",
    "    # Read the image\n",
    "    img = cv2.imread(image_path)\n",
    "\n",
    "    # Convert the image to grayscale\n",
    "    gray = cv2.cvtColor(img, cv2.COLOR_BGR2GRAY)\n",
    "\n",
    "    # Apply edge detection\n",
    "    edged = cv2.Canny(gray, 50, 200)\n",
    "\n",
    "    # Find contours\n",
    "    keypoints = cv2.findContours(edged.copy(), cv2.RETR_TREE, cv2.CHAIN_APPROX_SIMPLE)\n",
    "    contours = imutils.grab_contours(keypoints)\n",
    "    contours = sorted(contours, key=cv2.contourArea, reverse=True)[:10]\n",
    "\n",
    "    location = None\n",
    "    for contour in contours:\n",
    "        approx = cv2.approxPolyDP(contour, 10, True)\n",
    "        if len(approx) == 4:\n",
    "            location = approx\n",
    "            break\n",
    "\n",
    "    if location is not None:\n",
    "        # Create a mask for the contour\n",
    "        mask = np.zeros(gray.shape, np.uint8)\n",
    "        cv2.drawContours(mask, [location], 0, 255, -1)\n",
    "        new_image = cv2.bitwise_and(img, img, mask=mask)\n",
    "\n",
    "        # Find the bounding box of the masked area\n",
    "        (x, y) = np.where(mask == 255)\n",
    "        if len(x) > 0 and len(y) > 0:  # Ensure there are white pixels in the mask\n",
    "            (x1, y1) = (np.min(x), np.min(y))\n",
    "            (x2, y2) = (np.max(x), np.max(y))\n",
    "            cropped_image = gray[x1:x2+1, y1:y2+1]\n",
    "            images2.append(cropped_image)\n",
    "\n",
    "            # Save the resulting cropped image\n",
    "            result_path = os.path.join(image_dir, f'cropped_result_{i+1}.png')\n",
    "            cv2.imwrite(result_path, cropped_image)\n",
    "        else:\n",
    "            print(f\"No contour found for image {image_file}\")\n",
    "    else:\n",
    "        print(f\"No contour with 4 corners found for image {image_file}\")\n"
   ]
  },
  {
   "cell_type": "code",
   "execution_count": null,
   "metadata": {
    "colab": {
     "base_uri": "https://localhost:8080/",
     "height": 194
    },
    "id": "owQD7PLkm_Fz",
    "outputId": "c6b7cc0c-9bfb-4d5f-8db8-a39d609fbd51"
   },
   "outputs": [],
   "source": [
    "plt.imshow(cv2.cvtColor(images2[100], cv2.COLOR_BGR2RGB))\n"
   ]
  },
  {
   "cell_type": "code",
   "execution_count": null,
   "metadata": {
    "colab": {
     "base_uri": "https://localhost:8080/"
    },
    "id": "uuexqlL0niew",
    "outputId": "65bb8b8d-f662-4b18-c466-a5f5e9298cce"
   },
   "outputs": [],
   "source": [
    "reader = easyocr.Reader(['en'])\n",
    "result = reader.readtext(images2[100])\n",
    "result"
   ]
  },
  {
   "cell_type": "code",
   "execution_count": null,
   "metadata": {
    "colab": {
     "base_uri": "https://localhost:8080/"
    },
    "id": "i3W4X0cerk2b",
    "outputId": "e583c016-cfa8-410d-a3b1-11fd742c0e75"
   },
   "outputs": [],
   "source": [
    "if result:\n",
    "  text = ' '.join([detection[1] for detection in result])\n",
    "  print(f\"Text detected in image {i+1}: {text}\")\n",
    "else:\n",
    "  print(f\"No text detected in image {i+1}\")"
   ]
  },
  {
   "cell_type": "code",
   "execution_count": null,
   "metadata": {
    "colab": {
     "base_uri": "https://localhost:8080/"
    },
    "id": "Y12PLQbCnrI4",
    "outputId": "9ed19c09-e454-47a1-81f7-076d6b45093e"
   },
   "outputs": [],
   "source": [
    "\n",
    "reader = easyocr.Reader(['en'])\n",
    "\n",
    "# Iterate through the images and detect text\n",
    "for i, image in enumerate(images2):\n",
    "  result = reader.readtext(image)\n",
    "  if result:\n",
    "    text = ' '.join([detection[1] for detection in result])\n",
    "    print(f\"Text detected in image {i+1}: {text}\")\n",
    "  else:\n",
    "    print(f\"No text detected in image {i+1}\")\n"
   ]
  },
  {
   "cell_type": "code",
   "execution_count": null,
   "metadata": {
    "id": "pdeh7-XQnyoC"
   },
   "outputs": [],
   "source": []
  }
 ],
 "metadata": {
  "colab": {
   "provenance": []
  },
  "kernelspec": {
   "display_name": "Python 3 (ipykernel)",
   "language": "python",
   "name": "python3"
  },
  "language_info": {
   "codemirror_mode": {
    "name": "ipython",
    "version": 3
   },
   "file_extension": ".py",
   "mimetype": "text/x-python",
   "name": "python",
   "nbconvert_exporter": "python",
   "pygments_lexer": "ipython3",
   "version": "3.9.12"
  }
 },
 "nbformat": 4,
 "nbformat_minor": 1
}
